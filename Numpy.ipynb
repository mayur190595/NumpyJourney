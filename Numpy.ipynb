{
 "cells": [
  {
   "cell_type": "markdown",
   "id": "b290a9dd",
   "metadata": {},
   "source": [
    "# Embracing the Magic of NumPy: A Journey into Data Science\n",
    "\n",
    "## Introduction to NumPy\n",
    "\n",
    "**By [Mayur Choudhari]**\n",
    "\n",
    "Hello, fellow data explorers! 🌟 In this notebook, I invite you to dive into the captivating world of NumPy, a fundamental library in Python's data science ecosystem. NumPy's prowess in numerical computations and array manipulations sets the stage for our journey into data science magic.\n",
    "\n",
    "Throughout this notebook, we'll unravel key NumPy capabilities, witness their applications through code examples, and embark on a quest to wield data with finesse.\n",
    "\n",
    "**Table of Contents:**\n",
    "1. Introduction to NumPy\n",
    "2. Creating and Manipulating 1D Arrays\n",
    "3. Exploring n-Dimensional Arrays\n",
    "4. Generating Random Numbers with NumPy\n",
    "5. Dive into Broadcasting and Mathematical Magic\n",
    "6. Concluding Thoughts\n",
    "\n",
    "Feel free to follow along, experiment, and embrace the power of NumPy in your data endeavors.\n",
    "\n",
    "Let's commence our journey into the realm of arrays, computations, and discovery!\n"
   ]
  },
  {
   "cell_type": "code",
   "execution_count": 1,
   "id": "d7189be7",
   "metadata": {},
   "outputs": [],
   "source": [
    "import numpy as np"
   ]
  },
  {
   "cell_type": "code",
   "execution_count": 2,
   "id": "c843bdb8",
   "metadata": {},
   "outputs": [],
   "source": [
    "arr=np.array([1,2,3,4,5])    # created array"
   ]
  },
  {
   "cell_type": "code",
   "execution_count": 3,
   "id": "27c7ea30",
   "metadata": {},
   "outputs": [
    {
     "data": {
      "text/plain": [
       "(5,)"
      ]
     },
     "execution_count": 3,
     "metadata": {},
     "output_type": "execute_result"
    }
   ],
   "source": [
    "arr.shape                    # check the shape"
   ]
  },
  {
   "cell_type": "code",
   "execution_count": 4,
   "id": "7e2255fe",
   "metadata": {},
   "outputs": [
    {
     "name": "stdout",
     "output_type": "stream",
     "text": [
      "[1 2 3 4 5]\n"
     ]
    }
   ],
   "source": [
    "print(arr)                   # print array "
   ]
  },
  {
   "cell_type": "code",
   "execution_count": 5,
   "id": "b0823e95",
   "metadata": {},
   "outputs": [],
   "source": [
    "a=np.arange(10)             # Create a NumPy array 'a' containing integers from 0 to 9 in sequence."
   ]
  },
  {
   "cell_type": "code",
   "execution_count": 6,
   "id": "38c3d202",
   "metadata": {},
   "outputs": [
    {
     "name": "stdout",
     "output_type": "stream",
     "text": [
      "[0 1 2 3 4 5 6 7 8 9]\n"
     ]
    }
   ],
   "source": [
    "print(a)"
   ]
  },
  {
   "cell_type": "code",
   "execution_count": 7,
   "id": "3768a7e1",
   "metadata": {},
   "outputs": [],
   "source": [
    "a=a+2                       # Add 2 to each element in the array 'a' and update the array with the new values."
   ]
  },
  {
   "cell_type": "code",
   "execution_count": 8,
   "id": "7d384e56",
   "metadata": {},
   "outputs": [
    {
     "name": "stdout",
     "output_type": "stream",
     "text": [
      "[ 2  3  4  5  6  7  8  9 10 11]\n"
     ]
    }
   ],
   "source": [
    "print(a)"
   ]
  },
  {
   "cell_type": "code",
   "execution_count": 9,
   "id": "cd8bebc8",
   "metadata": {},
   "outputs": [
    {
     "name": "stdout",
     "output_type": "stream",
     "text": [
      "[ 4  5  6  7  8  9 10 11 12 13]\n"
     ]
    }
   ],
   "source": [
    "print(a+2)                  # Print the result of adding 2 to each element in the array 'a', without modifying 'a' itself."
   ]
  },
  {
   "cell_type": "code",
   "execution_count": 10,
   "id": "24fe0186",
   "metadata": {},
   "outputs": [
    {
     "name": "stdout",
     "output_type": "stream",
     "text": [
      "[ 2  3  4  5  6  7  8  9 10 11]\n"
     ]
    }
   ],
   "source": [
    "print(a)"
   ]
  },
  {
   "cell_type": "markdown",
   "id": "0e5e0304",
   "metadata": {},
   "source": [
    "## Slicing"
   ]
  },
  {
   "cell_type": "code",
   "execution_count": 11,
   "id": "f703f7ad",
   "metadata": {},
   "outputs": [
    {
     "data": {
      "text/plain": [
       "array([2, 3, 4, 5, 6, 7, 8, 9])"
      ]
     },
     "execution_count": 11,
     "metadata": {},
     "output_type": "execute_result"
    }
   ],
   "source": [
    "a[0:8:1]                # Extract a subarray from 'a' starting at index 0, ending at index 7 (8-1), with a step size of 1."
   ]
  },
  {
   "cell_type": "code",
   "execution_count": 12,
   "id": "9e0d8f31",
   "metadata": {},
   "outputs": [
    {
     "data": {
      "text/plain": [
       "2"
      ]
     },
     "execution_count": 12,
     "metadata": {},
     "output_type": "execute_result"
    }
   ],
   "source": [
    "a[0]"
   ]
  },
  {
   "cell_type": "markdown",
   "id": "133a917e",
   "metadata": {},
   "source": [
    "# Creating n-dimensional array"
   ]
  },
  {
   "cell_type": "code",
   "execution_count": 13,
   "id": "0e3093d8",
   "metadata": {},
   "outputs": [],
   "source": [
    "a=np.array([[0,1,2,3],[4,5,6,7],[8,9,10,11],[12,13,14,15]])"
   ]
  },
  {
   "cell_type": "code",
   "execution_count": 14,
   "id": "c34e1bdc",
   "metadata": {},
   "outputs": [
    {
     "data": {
      "text/plain": [
       "array([[ 0,  1,  2,  3],\n",
       "       [ 4,  5,  6,  7],\n",
       "       [ 8,  9, 10, 11],\n",
       "       [12, 13, 14, 15]])"
      ]
     },
     "execution_count": 14,
     "metadata": {},
     "output_type": "execute_result"
    }
   ],
   "source": [
    "a"
   ]
  },
  {
   "cell_type": "code",
   "execution_count": 15,
   "id": "e18cd25b",
   "metadata": {},
   "outputs": [
    {
     "data": {
      "text/plain": [
       "(4, 4)"
      ]
     },
     "execution_count": 15,
     "metadata": {},
     "output_type": "execute_result"
    }
   ],
   "source": [
    "a.shape"
   ]
  },
  {
   "cell_type": "markdown",
   "id": "a9d22eb4",
   "metadata": {},
   "source": [
    "#### Slicing of n-dimensional array"
   ]
  },
  {
   "cell_type": "code",
   "execution_count": 16,
   "id": "fcfff53b",
   "metadata": {},
   "outputs": [
    {
     "data": {
      "text/plain": [
       "array([[ 1,  2],\n",
       "       [ 5,  6],\n",
       "       [ 9, 10]])"
      ]
     },
     "execution_count": 16,
     "metadata": {},
     "output_type": "execute_result"
    }
   ],
   "source": [
    "a[0:3,1:3]              # Extract a subarray from 'a' including rows from index 0 to 2 and columns from index 1 to 2"
   ]
  },
  {
   "cell_type": "code",
   "execution_count": 17,
   "id": "1821fb04",
   "metadata": {},
   "outputs": [
    {
     "data": {
      "text/plain": [
       "array([[ 0,  1,  2,  3],\n",
       "       [ 4,  5,  6,  7],\n",
       "       [ 8,  9, 10, 11],\n",
       "       [12, 13, 14, 15]])"
      ]
     },
     "execution_count": 17,
     "metadata": {},
     "output_type": "execute_result"
    }
   ],
   "source": [
    "a"
   ]
  },
  {
   "cell_type": "markdown",
   "id": "9a864725",
   "metadata": {},
   "source": [
    "#### Created new array"
   ]
  },
  {
   "cell_type": "code",
   "execution_count": 18,
   "id": "3c44a98f",
   "metadata": {},
   "outputs": [],
   "source": [
    "a=np.array([[0,1,2],[4,5,6],[8,9,10],[12,13,14]])"
   ]
  },
  {
   "cell_type": "code",
   "execution_count": 19,
   "id": "9e19fc37",
   "metadata": {},
   "outputs": [
    {
     "data": {
      "text/plain": [
       "array([[ 0,  1,  2],\n",
       "       [ 4,  5,  6],\n",
       "       [ 8,  9, 10],\n",
       "       [12, 13, 14]])"
      ]
     },
     "execution_count": 19,
     "metadata": {},
     "output_type": "execute_result"
    }
   ],
   "source": [
    "a"
   ]
  },
  {
   "cell_type": "code",
   "execution_count": 20,
   "id": "0c19bc83",
   "metadata": {},
   "outputs": [],
   "source": [
    "a=a.T                  # Transpose the array 'a', swapping rows and columns."
   ]
  },
  {
   "cell_type": "code",
   "execution_count": 21,
   "id": "f04a08c0",
   "metadata": {},
   "outputs": [
    {
     "data": {
      "text/plain": [
       "array([[ 0,  4,  8, 12],\n",
       "       [ 1,  5,  9, 13],\n",
       "       [ 2,  6, 10, 14]])"
      ]
     },
     "execution_count": 21,
     "metadata": {},
     "output_type": "execute_result"
    }
   ],
   "source": [
    "a"
   ]
  },
  {
   "cell_type": "code",
   "execution_count": 22,
   "id": "03926b3a",
   "metadata": {},
   "outputs": [
    {
     "data": {
      "text/plain": [
       "array([[ 0,  4,  8],\n",
       "       [12,  1,  5],\n",
       "       [ 9, 13,  2],\n",
       "       [ 6, 10, 14]])"
      ]
     },
     "execution_count": 22,
     "metadata": {},
     "output_type": "execute_result"
    }
   ],
   "source": [
    "a.reshape(4,3)          # reshape the array"
   ]
  },
  {
   "cell_type": "code",
   "execution_count": null,
   "id": "36a78693",
   "metadata": {},
   "outputs": [],
   "source": []
  },
  {
   "cell_type": "code",
   "execution_count": null,
   "id": "454b6451",
   "metadata": {},
   "outputs": [],
   "source": []
  },
  {
   "cell_type": "markdown",
   "id": "590f52d7",
   "metadata": {},
   "source": [
    "## Creating  Random"
   ]
  },
  {
   "cell_type": "code",
   "execution_count": 23,
   "id": "f990276d",
   "metadata": {},
   "outputs": [
    {
     "data": {
      "text/plain": [
       "0.10744068708110388"
      ]
     },
     "execution_count": 23,
     "metadata": {},
     "output_type": "execute_result"
    }
   ],
   "source": [
    "np.random.random()"
   ]
  },
  {
   "cell_type": "code",
   "execution_count": 24,
   "id": "eed60255",
   "metadata": {},
   "outputs": [
    {
     "data": {
      "text/plain": [
       "array([0.9121749 , 0.16160872, 0.6466919 , 0.11873428, 0.20824179,\n",
       "       0.69502368, 0.70578586, 0.59701521, 0.80091541, 0.01493642])"
      ]
     },
     "execution_count": 24,
     "metadata": {},
     "output_type": "execute_result"
    }
   ],
   "source": [
    "np.random.random(10) # it will create 10 random value"
   ]
  },
  {
   "cell_type": "markdown",
   "id": "cb6bf7a3",
   "metadata": {},
   "source": [
    "#### Seed:-\n",
    "\n",
    "**The seed value in NumPy's random module is used to initialize the random number generator, ensuring that the same sequence of random numbers can be reproduced when the same seed is used.**"
   ]
  },
  {
   "cell_type": "code",
   "execution_count": 25,
   "id": "e7ccaf26",
   "metadata": {},
   "outputs": [
    {
     "name": "stdout",
     "output_type": "stream",
     "text": [
      "0.771320643266746\n"
     ]
    }
   ],
   "source": [
    "np.random.seed(10)                              \n",
    "print(np.random.random()) # Set the random seed to ensure reproducibility,& generate and print a random number between 0 and 1."
   ]
  },
  {
   "cell_type": "markdown",
   "id": "2e449f78",
   "metadata": {},
   "source": [
    "##### Creating randint"
   ]
  },
  {
   "cell_type": "code",
   "execution_count": 26,
   "id": "11fd868c",
   "metadata": {},
   "outputs": [
    {
     "data": {
      "text/plain": [
       "array([5, 6, 5, 6, 6, 5])"
      ]
     },
     "execution_count": 26,
     "metadata": {},
     "output_type": "execute_result"
    }
   ],
   "source": [
    "np.random.randint(low=5,high=7,size=6)        # Generate an array of 6 random integers between 5 and 7."
   ]
  },
  {
   "cell_type": "code",
   "execution_count": null,
   "id": "46228e42",
   "metadata": {},
   "outputs": [],
   "source": []
  }
 ],
 "metadata": {
  "kernelspec": {
   "display_name": "Python 3 (ipykernel)",
   "language": "python",
   "name": "python3"
  },
  "language_info": {
   "codemirror_mode": {
    "name": "ipython",
    "version": 3
   },
   "file_extension": ".py",
   "mimetype": "text/x-python",
   "name": "python",
   "nbconvert_exporter": "python",
   "pygments_lexer": "ipython3",
   "version": "3.10.9"
  }
 },
 "nbformat": 4,
 "nbformat_minor": 5
}
